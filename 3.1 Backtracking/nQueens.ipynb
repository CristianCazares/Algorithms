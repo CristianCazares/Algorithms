{
 "cells": [
  {
   "cell_type": "markdown",
   "metadata": {},
   "source": [
    "# N - Queens"
   ]
  },
  {
   "cell_type": "markdown",
   "metadata": {},
   "source": [
    "Friday 25th 2022\n",
    "\n",
    "By: Cristian Cázares, Santiago Reyes, Emilio Gonzáles, Marisol Rodriguez"
   ]
  },
  {
   "cell_type": "markdown",
   "metadata": {},
   "source": [
    "## Backtracking\n",
    "#### This algorithm uses backtracking to calculate the posible the positions of N queens in a N x N board."
   ]
  },
  {
   "cell_type": "markdown",
   "metadata": {},
   "source": [
    "##### showMatrix(m):\n",
    "Takes a matrix and displays it."
   ]
  },
  {
   "cell_type": "code",
   "execution_count": 1,
   "metadata": {},
   "outputs": [],
   "source": [
    "def showMatrix(m):\n",
    "    for row in m:\n",
    "        print(row)\n",
    "    print(\"\")"
   ]
  },
  {
   "cell_type": "markdown",
   "metadata": {},
   "source": [
    "##### isValid(inMat):\n",
    "Takes a matrix and calculates if the queens does not converge."
   ]
  },
  {
   "cell_type": "code",
   "execution_count": 2,
   "metadata": {},
   "outputs": [],
   "source": [
    "def isValid(inMat):\n",
    "    queenCountRow=0\n",
    "    queenCountColumn=0\n",
    "\n",
    "    #Dimensions for the matrix\n",
    "    ceiling=0\n",
    "    floor=len(inMat)-1\n",
    "    left=0\n",
    "    right=floor\n",
    "\n",
    "    for i in range(len(inMat)):\n",
    "        queenCountRow=0\n",
    "        queenCountColumn=0\n",
    "        for j in range(len(inMat)):\n",
    "            if inMat[i][j]!=0:\n",
    "                queenCountRow+=1\n",
    "                if queenCountRow>1:\n",
    "                    return False\n",
    "            \n",
    "                #Explore bottom right diagonal\n",
    "                currRow=i+1\n",
    "                currColumn=j+1\n",
    "\n",
    "                while currRow<=floor and currColumn<=right:\n",
    "                    if inMat[currRow][currColumn]!=0:\n",
    "                        #print(\"bottom right collision\")\n",
    "                        return False\n",
    "                    currRow+=1\n",
    "                    currColumn+=1\n",
    "                \n",
    "                #Explore bottom left diagonal\n",
    "\n",
    "                currRow=i+1\n",
    "                currColumn=j-1\n",
    "\n",
    "                while currRow<=floor and currColumn>=left:\n",
    "                    if inMat[currRow][currColumn]!=0:\n",
    "                        #print(\"bottom left collision\")\n",
    "                        return False\n",
    "                    currRow+=1\n",
    "                    currColumn-=1\n",
    "                \n",
    "                #Explore top right diagonal\n",
    "\n",
    "                currRow=i-1\n",
    "                currColumn=j+1\n",
    "\n",
    "                while currRow>=ceiling and currColumn<=right:\n",
    "                    if inMat[currRow][currColumn]!=0:\n",
    "                        #print(\"top right collision\")\n",
    "                        return False\n",
    "                    currRow-=1\n",
    "                    currColumn+=1\n",
    "                \n",
    "                #Explore top left diagonal\n",
    "\n",
    "                currRow=i-1\n",
    "                currColumn=j-1\n",
    "\n",
    "                while currRow>=ceiling and currColumn>=left:\n",
    "                    if inMat[currRow][currColumn]!=0:\n",
    "                        #print(\"top left collision\")\n",
    "                        return False\n",
    "                    currRow-=1\n",
    "                    currColumn-=1\n",
    "\n",
    "\n",
    "            if inMat[j][i]!=0:\n",
    "                queenCountColumn+=1\n",
    "                if queenCountColumn>1:\n",
    "                    return False\n",
    "\n",
    "    return True"
   ]
  },
  {
   "cell_type": "markdown",
   "metadata": {},
   "source": [
    "#### isSolution(m, nthQueen)\n",
    "Takes a matrix and uses the isValid function to validate the matrix then checks if all the queens are positioned."
   ]
  },
  {
   "cell_type": "code",
   "execution_count": 3,
   "metadata": {},
   "outputs": [],
   "source": [
    "def isSolution(m, nthQueen):\n",
    "    if isValid(m) and nthQueen == len(m):\n",
    "        return True\n",
    "    return False"
   ]
  },
  {
   "cell_type": "markdown",
   "metadata": {},
   "source": [
    "#### backtracking(matrix, nthQueen, sol):\n",
    "Goes though every posible position for a certain queen and validates it. If the position is valid then checks if is a solution and adds it to a solutions array."
   ]
  },
  {
   "cell_type": "code",
   "execution_count": 4,
   "metadata": {},
   "outputs": [],
   "source": [
    "def backtracking(matrix, nthQueen, sol):\n",
    "    for i in range(len(matrix)):\n",
    "        m = [row[:] for row in matrix] #Copies a matrix with new memory adress for each individual index.\n",
    "        m[nthQueen - 1][i] = nthQueen\n",
    "\n",
    "        if not isValid(m):\n",
    "            continue\n",
    "        \n",
    "        if isSolution(m, nthQueen):\n",
    "            sol.append(m)\n",
    "            return m\n",
    "\n",
    "        backtracking(m, nthQueen + 1, sol)"
   ]
  },
  {
   "cell_type": "code",
   "execution_count": 5,
   "metadata": {},
   "outputs": [],
   "source": [
    "def main():\n",
    "    boardLength = int(input(\"Enter a board dimension: \"))\n",
    "    \n",
    "    board = [[0 for _ in range(boardLength)] for _ in range(boardLength)]\n",
    "    solution = []\n",
    "    backtracking(board, 1, solution)\n",
    "\n",
    "    print(f\"Found {len(solution)} solutions for {boardLength} queens on a {boardLength} x {boardLength} board.\")\n",
    "    for sol in solution:\n",
    "        showMatrix(sol)"
   ]
  },
  {
   "cell_type": "code",
   "execution_count": 6,
   "metadata": {
    "scrolled": true
   },
   "outputs": [
    {
     "name": "stdout",
     "output_type": "stream",
     "text": [
      "Enter a board dimension: 4\n",
      "Found 2 solutions for 4 queens on a 4 x 4 board.\n",
      "[0, 1, 0, 0]\n",
      "[0, 0, 0, 2]\n",
      "[3, 0, 0, 0]\n",
      "[0, 0, 4, 0]\n",
      "\n",
      "[0, 0, 1, 0]\n",
      "[2, 0, 0, 0]\n",
      "[0, 0, 0, 3]\n",
      "[0, 4, 0, 0]\n",
      "\n"
     ]
    }
   ],
   "source": [
    "main()"
   ]
  },
  {
   "cell_type": "code",
   "execution_count": null,
   "metadata": {},
   "outputs": [],
   "source": []
  }
 ],
 "metadata": {
  "kernelspec": {
   "display_name": "Python 3",
   "language": "python",
   "name": "python3"
  },
  "language_info": {
   "codemirror_mode": {
    "name": "ipython",
    "version": 3
   },
   "file_extension": ".py",
   "mimetype": "text/x-python",
   "name": "python",
   "nbconvert_exporter": "python",
   "pygments_lexer": "ipython3",
   "version": "3.8.8"
  },
  "vscode": {
   "interpreter": {
    "hash": "4a555e8b7118cc3b016601558be86ae9d718f54d1ee86353beef78a73a7f88d4"
   }
  }
 },
 "nbformat": 4,
 "nbformat_minor": 2
}
